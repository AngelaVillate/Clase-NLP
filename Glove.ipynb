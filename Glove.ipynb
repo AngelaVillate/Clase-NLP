{
  "nbformat": 4,
  "nbformat_minor": 0,
  "metadata": {
    "colab": {
      "provenance": []
    },
    "kernelspec": {
      "name": "python3",
      "display_name": "Python 3"
    },
    "language_info": {
      "name": "python"
    }
  },
  "cells": [
    {
      "cell_type": "code",
      "execution_count": 1,
      "metadata": {
        "id": "ejtheUl_9Y7C"
      },
      "outputs": [],
      "source": [
        "import numpy as np\n",
        "import gensim.downloader as api"
      ]
    },
    {
      "cell_type": "code",
      "source": [
        "# Descargamos un modelo preentrenado compatible con GloVe en español\n",
        "print(\"Descargando modelo preentrenado...\")\n",
        "word_vectors = api.load(\"glove-wiki-gigaword-50\")  # Usa un modelo de 50 dimensiones\n",
        "print(\"Modelo cargado correctamente.\")"
      ],
      "metadata": {
        "colab": {
          "base_uri": "https://localhost:8080/"
        },
        "id": "RdgI8n3w9fas",
        "outputId": "cee9806a-0024-4988-d089-cd5d0363e8e2"
      },
      "execution_count": 2,
      "outputs": [
        {
          "output_type": "stream",
          "name": "stdout",
          "text": [
            "Descargando modelo preentrenado...\n",
            "[==================================================] 100.0% 66.0/66.0MB downloaded\n",
            "Modelo cargado correctamente.\n"
          ]
        }
      ]
    },
    {
      "cell_type": "code",
      "source": [
        "# Definimos un pequeño corpus en español\n",
        "corpus = [\n",
        "    \"El gato juega en el jardín\",\n",
        "    \"Los perros corren en el parque\",\n",
        "    \"Las flores son hermosas\"\n",
        "]"
      ],
      "metadata": {
        "id": "gKT8KJwx9oxT"
      },
      "execution_count": 3,
      "outputs": []
    },
    {
      "cell_type": "code",
      "source": [
        "# Función para obtener el vector de una palabra\n",
        "def obtener_vector(palabra):\n",
        "    if palabra in word_vectors:\n",
        "        return word_vectors[palabra]\n",
        "    else:\n",
        "        return np.zeros(50)  # Si la palabra no está, devolvemos un vector de ceros"
      ],
      "metadata": {
        "id": "-MR2gGzK9rdD"
      },
      "execution_count": 4,
      "outputs": []
    },
    {
      "cell_type": "code",
      "source": [
        "# Vectorizamos una oración sumando los vectores de sus palabras\n",
        "def vectorizar_oracion(oracion):\n",
        "    palabras = oracion.lower().split()\n",
        "    vectores = [obtener_vector(p) for p in palabras]\n",
        "    return np.mean(vectores, axis=0)  # Calculamos el promedio de los vectores"
      ],
      "metadata": {
        "id": "h990rb1V9vQb"
      },
      "execution_count": 5,
      "outputs": []
    },
    {
      "cell_type": "code",
      "source": [
        "\n",
        "# Aplicamos la vectorización al corpus\n",
        "vectores_corpus = [vectorizar_oracion(oracion) for oracion in corpus]"
      ],
      "metadata": {
        "id": "pBs-qrKe9xkT"
      },
      "execution_count": 6,
      "outputs": []
    },
    {
      "cell_type": "code",
      "source": [
        "# Mostramos resultados\n",
        "for i, oracion in enumerate(corpus):\n",
        "    print(f\"Oración: {oracion}\")\n",
        "    print(f\"Vector (primeros 5 valores): {vectores_corpus[i][:5]}\")\n",
        "    print(\"-\")"
      ],
      "metadata": {
        "colab": {
          "base_uri": "https://localhost:8080/"
        },
        "id": "YeqjIR009z2D",
        "outputId": "0d736193-cf0d-4d42-b432-5c26a72b30f4"
      },
      "execution_count": 7,
      "outputs": [
        {
          "output_type": "stream",
          "name": "stdout",
          "text": [
            "Oración: El gato juega en el jardín\n",
            "Vector (primeros 5 valores): [ 0.126292    0.54628001 -0.29774166  0.52370834 -0.34521499]\n",
            "-\n",
            "Oración: Los perros corren en el parque\n",
            "Vector (primeros 5 valores): [ 0.03372711  0.4244348  -0.31058332  0.70803165 -0.6291933 ]\n",
            "-\n",
            "Oración: Las flores son hermosas\n",
            "Vector (primeros 5 valores): [ 0.3337725   0.438271   -0.12068499  0.6496675   0.05737   ]\n",
            "-\n"
          ]
        }
      ]
    },
    {
      "cell_type": "code",
      "source": [],
      "metadata": {
        "id": "dvZieLel92xZ"
      },
      "execution_count": null,
      "outputs": []
    }
  ]
}