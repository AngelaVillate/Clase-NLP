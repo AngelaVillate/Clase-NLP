{
  "nbformat": 4,
  "nbformat_minor": 0,
  "metadata": {
    "colab": {
      "provenance": []
    },
    "kernelspec": {
      "name": "python3",
      "display_name": "Python 3"
    },
    "language_info": {
      "name": "python"
    }
  },
  "cells": [
    {
      "cell_type": "code",
      "execution_count": 1,
      "metadata": {
        "id": "2ib0dLP8AByW"
      },
      "outputs": [],
      "source": [
        "import numpy as np\n",
        "import gensim.downloader as api\n",
        "import gensim.models\n",
        "import matplotlib.pyplot as plt\n",
        "from sklearn.decomposition import PCA\n",
        "from sklearn.manifold import TSNE"
      ]
    },
    {
      "cell_type": "code",
      "source": [
        "# Corpus en español (10 frases)\n",
        "corpus = [\n",
        "    \"El gato juega en el jardín\",\n",
        "    \"Los perros corren en el parque\",\n",
        "    \"Las flores son hermosas\",\n",
        "    \"El sol brilla en la mañana\",\n",
        "    \"Me gusta leer libros de historia\",\n",
        "    \"El café caliente es delicioso\",\n",
        "    \"Las montañas son altas y hermosas\",\n",
        "    \"A los niños les encanta jugar con sus amigos\",\n",
        "    \"Las películas de ciencia ficción son interesantes\",\n",
        "    \"El río fluye con fuerza en invierno\"\n",
        "]"
      ],
      "metadata": {
        "id": "tQoFTYjsAHCZ"
      },
      "execution_count": 2,
      "outputs": []
    },
    {
      "cell_type": "code",
      "source": [
        "# Tokenización simple\n",
        "tokenized_corpus = [sentence.lower().split() for sentence in corpus]\n"
      ],
      "metadata": {
        "id": "rPk3ptHVAL6K"
      },
      "execution_count": 3,
      "outputs": []
    },
    {
      "cell_type": "code",
      "source": [
        "# Entrenamiento de modelos Word2Vec y FastText\n",
        "w2v_model = gensim.models.Word2Vec(sentences=tokenized_corpus, vector_size=50, window=5, min_count=1, workers=4)\n",
        "fasttext_model = gensim.models.FastText(sentences=tokenized_corpus, vector_size=50, window=5, min_count=1, workers=4)"
      ],
      "metadata": {
        "id": "CKKXijtmAOE6"
      },
      "execution_count": 4,
      "outputs": []
    },
    {
      "cell_type": "code",
      "source": [
        "# Carga de modelo GloVe preentrenado (evitamos problemas de instalación)\n",
        "print(\"Descargando modelo GloVe preentrenado...\")\n",
        "glove_model = api.load(\"glove-wiki-gigaword-50\")\n",
        "print(\"Modelo GloVe cargado correctamente.\")"
      ],
      "metadata": {
        "colab": {
          "base_uri": "https://localhost:8080/"
        },
        "id": "EF0AakHmARo6",
        "outputId": "54e95256-b473-46b9-ed25-c5e1e829f02b"
      },
      "execution_count": 5,
      "outputs": [
        {
          "output_type": "stream",
          "name": "stdout",
          "text": [
            "Descargando modelo GloVe preentrenado...\n",
            "[==================================================] 100.0% 66.0/66.0MB downloaded\n",
            "Modelo GloVe cargado correctamente.\n"
          ]
        }
      ]
    },
    {
      "cell_type": "code",
      "source": [
        "# Visualización de embeddings\n",
        "words = list(w2v_model.wv.key_to_index.keys())[:10]  # Tomamos algunas palabras\n",
        "vectors = np.array([w2v_model.wv[word] for word in words])"
      ],
      "metadata": {
        "id": "2-JXrtJVAVPI"
      },
      "execution_count": 6,
      "outputs": []
    },
    {
      "cell_type": "code",
      "source": [
        "# Reducimos dimensión con PCA\n",
        "pca = PCA(n_components=2)\n",
        "reduced_vectors = pca.fit_transform(vectors)\n"
      ],
      "metadata": {
        "id": "PiHeyD4KAdhD"
      },
      "execution_count": 7,
      "outputs": []
    },
    {
      "cell_type": "code",
      "source": [
        "# Gráfica de embeddings\n",
        "plt.figure(figsize=(8, 6))\n",
        "plt.scatter(reduced_vectors[:, 0], reduced_vectors[:, 1], marker='o')\n",
        "for i, word in enumerate(words):\n",
        "    plt.annotate(word, (reduced_vectors[i, 0], reduced_vectors[i, 1]))\n",
        "plt.title(\"Representación de palabras con PCA\")\n",
        "plt.show()"
      ],
      "metadata": {
        "colab": {
          "base_uri": "https://localhost:8080/",
          "height": 545
        },
        "id": "JgNYjNBdAfs4",
        "outputId": "290c1e80-59f5-45f0-e2e9-e4a4931eef23"
      },
      "execution_count": 8,
      "outputs": [
        {
          "output_type": "display_data",
          "data": {
            "text/plain": [
              "<Figure size 800x600 with 1 Axes>"
            ],
            "image/png": "[encoded data removed]"
          },
          "metadata": {}
        }
      ]
    },
    {
      "cell_type": "code",
      "source": [
        "# Predicción de palabras similares\n",
        "word = \"gato\"\n",
        "print(\"Palabras similares a 'gato':\")\n",
        "print(\"Word2Vec:\", w2v_model.wv.most_similar(word, topn=3))\n",
        "print(\"FastText:\", fasttext_model.wv.most_similar(word, topn=3))\n",
        "print(\"GloVe:\", glove_model.most_similar(word, topn=3))"
      ],
      "metadata": {
        "colab": {
          "base_uri": "https://localhost:8080/"
        },
        "id": "EEaNmSEDAmv5",
        "outputId": "a2495169-8ca5-4f19-bb64-318eded671fe"
      },
      "execution_count": 9,
      "outputs": [
        {
          "output_type": "stream",
          "name": "stdout",
          "text": [
            "Palabras similares a 'gato':\n",
            "Word2Vec: [('amigos', 0.3173588812351227), ('niños', 0.23984278738498688), ('altas', 0.21452398598194122)]\n",
            "FastText: [('sus', 0.2546130418777466), ('amigos', 0.21754221618175507), ('altas', 0.21627897024154663)]\n",
            "GloVe: [('lukamba', 0.8060766458511353), ('gon', 0.7140658497810364), ('sono', 0.6904968619346619)]\n"
          ]
        }
      ]
    },
    {
      "cell_type": "markdown",
      "source": [],
      "metadata": {
        "id": "WqUbXO_jAtXp"
      }
    },
    {
      "cell_type": "code",
      "source": [],
      "metadata": {
        "id": "TFkesYeAAtFi"
      },
      "execution_count": null,
      "outputs": []
    }
  ]
}